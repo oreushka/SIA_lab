{
  "nbformat": 4,
  "nbformat_minor": 0,
  "metadata": {
    "colab": {
      "name": "Month2_lab2.ipynb",
      "provenance": [],
      "authorship_tag": "ABX9TyPIcgrOIhJtJkbpMZA2euVa",
      "include_colab_link": true
    },
    "kernelspec": {
      "name": "python3",
      "display_name": "Python 3"
    },
    "language_info": {
      "name": "python"
    }
  },
  "cells": [
    {
      "cell_type": "markdown",
      "metadata": {
        "id": "view-in-github",
        "colab_type": "text"
      },
      "source": [
        "<a href=\"https://colab.research.google.com/github/oreushka/SIA_lab/blob/main/Month2_lab2.ipynb\" target=\"_parent\"><img src=\"https://colab.research.google.com/assets/colab-badge.svg\" alt=\"Open In Colab\"/></a>"
      ]
    },
    {
      "cell_type": "markdown",
      "metadata": {
        "id": "1gxRZ_lI-4Da"
      },
      "source": [
        "###Задание"
      ]
    },
    {
      "cell_type": "markdown",
      "metadata": {
        "id": "_Atec9Uy_CYJ"
      },
      "source": [
        "1) Запустить ячейку ниже, чтобы получить 2 жанра. Для полученных жанров провести все этапы предварительной обработки текста (как в примере), обучить наивный байесовский классификатор, численно оценить его работу."
      ]
    },
    {
      "cell_type": "code",
      "metadata": {
        "id": "XxkZ901zyLPQ",
        "colab": {
          "base_uri": "https://localhost:8080/"
        },
        "outputId": "c5e9a68a-a3a2-48d6-dc1c-18158234b03d"
      },
      "source": [
        " import random \n",
        " lst = ['Christian', 'Country', 'Pop', 'Rock', 'R&B'] \n",
        " print('ваши жанры', random.choice(lst), 'и', random.choice(lst)) "
      ],
      "execution_count": null,
      "outputs": [
        {
          "output_type": "stream",
          "name": "stdout",
          "text": [
            "ваши жанры Rock и Country\n"
          ]
        }
      ]
    },
    {
      "cell_type": "markdown",
      "metadata": {
        "id": "arFgKQIlrplD"
      },
      "source": [
        "Прочитаем данные из датасета"
      ]
    },
    {
      "cell_type": "code",
      "metadata": {
        "id": "z9OwJhjSnzjp",
        "colab": {
          "base_uri": "https://localhost:8080/",
          "height": 203
        },
        "outputId": "bcd59426-6873-438b-9b54-ca3d55cda255"
      },
      "source": [
        "import pandas as pd\n",
        "data = pd.read_csv(\"dataset.csv\")\n",
        "data.head()"
      ],
      "execution_count": null,
      "outputs": [
        {
          "output_type": "execute_result",
          "data": {
            "text/html": [
              "<div>\n",
              "<style scoped>\n",
              "    .dataframe tbody tr th:only-of-type {\n",
              "        vertical-align: middle;\n",
              "    }\n",
              "\n",
              "    .dataframe tbody tr th {\n",
              "        vertical-align: top;\n",
              "    }\n",
              "\n",
              "    .dataframe thead th {\n",
              "        text-align: right;\n",
              "    }\n",
              "</style>\n",
              "<table border=\"1\" class=\"dataframe\">\n",
              "  <thead>\n",
              "    <tr style=\"text-align: right;\">\n",
              "      <th></th>\n",
              "      <th>genre</th>\n",
              "      <th>lyrics</th>\n",
              "      <th>SongInfo</th>\n",
              "    </tr>\n",
              "  </thead>\n",
              "  <tbody>\n",
              "    <tr>\n",
              "      <th>0</th>\n",
              "      <td>Christian</td>\n",
              "      <td>Who am I, that the Lord of all the earth Woul...</td>\n",
              "      <td>CASTING CROWNS - WHO AM I LYRICS</td>\n",
              "    </tr>\n",
              "    <tr>\n",
              "      <th>1</th>\n",
              "      <td>Christian</td>\n",
              "      <td>Glory Revealed  By His Wounds He was pierced ...</td>\n",
              "      <td>GLORY REVEALED - BY HIS WOUNDS LYRICS</td>\n",
              "    </tr>\n",
              "    <tr>\n",
              "      <th>2</th>\n",
              "      <td>Christian</td>\n",
              "      <td>Lord of heaven and earth Lord of all creation...</td>\n",
              "      <td>CAEDMON'S CALL - GOD OF WONDERS LYRICS</td>\n",
              "    </tr>\n",
              "    <tr>\n",
              "      <th>3</th>\n",
              "      <td>Christian</td>\n",
              "      <td>I can only imagine what it will be like When ...</td>\n",
              "      <td>MERCYME - I CAN ONLY IMAGINE LYRICS</td>\n",
              "    </tr>\n",
              "    <tr>\n",
              "      <th>4</th>\n",
              "      <td>Christian</td>\n",
              "      <td>I am not skilled to understand What God has w...</td>\n",
              "      <td>AARON SHUST - MY SAVIOR MY GOD LYRICS</td>\n",
              "    </tr>\n",
              "  </tbody>\n",
              "</table>\n",
              "</div>"
            ],
            "text/plain": [
              "       genre  ...                                SongInfo\n",
              "0  Christian  ...        CASTING CROWNS - WHO AM I LYRICS\n",
              "1  Christian  ...   GLORY REVEALED - BY HIS WOUNDS LYRICS\n",
              "2  Christian  ...  CAEDMON'S CALL - GOD OF WONDERS LYRICS\n",
              "3  Christian  ...     MERCYME - I CAN ONLY IMAGINE LYRICS\n",
              "4  Christian  ...   AARON SHUST - MY SAVIOR MY GOD LYRICS\n",
              "\n",
              "[5 rows x 3 columns]"
            ]
          },
          "metadata": {},
          "execution_count": 51
        }
      ]
    },
    {
      "cell_type": "markdown",
      "metadata": {
        "id": "heBy-Y9Bphq5"
      },
      "source": [
        "Полученные жанры были Rock и Country. Их и выберем из датасета"
      ]
    },
    {
      "cell_type": "code",
      "metadata": {
        "id": "5Cazg7CNqJrH"
      },
      "source": [
        "columns = data[['genre', 'lyrics']]\n",
        "columns = columns[(columns.genre == 'Rock') | (columns.genre == 'Country')]"
      ],
      "execution_count": null,
      "outputs": []
    },
    {
      "cell_type": "markdown",
      "metadata": {
        "id": "VFAIzFeQqXf4"
      },
      "source": [
        "Приведем тексты к нижнему регистру и сделаем с ними отдельную колонку"
      ]
    },
    {
      "cell_type": "code",
      "metadata": {
        "id": "8OIKYnOoqfBi"
      },
      "source": [
        "lowered = columns['lyrics'].str.lower()\n",
        "columns['lowered'] = lowered"
      ],
      "execution_count": null,
      "outputs": []
    },
    {
      "cell_type": "markdown",
      "metadata": {
        "id": "b_VZVKciqxIc"
      },
      "source": [
        "Проведем токенизацию и добавим токенизированные данные в колонку"
      ]
    },
    {
      "cell_type": "code",
      "metadata": {
        "colab": {
          "base_uri": "https://localhost:8080/"
        },
        "id": "LrdYMAxeqzrQ",
        "outputId": "b1be6179-e0f9-4e4d-9f2b-b38a97562896"
      },
      "source": [
        "import nltk\n",
        "from nltk.tokenize import word_tokenize\n",
        "nltk.download('punkt')"
      ],
      "execution_count": null,
      "outputs": [
        {
          "output_type": "stream",
          "name": "stdout",
          "text": [
            "[nltk_data] Downloading package punkt to /root/nltk_data...\n",
            "[nltk_data]   Unzipping tokenizers/punkt.zip.\n"
          ]
        },
        {
          "output_type": "execute_result",
          "data": {
            "text/plain": [
              "True"
            ]
          },
          "metadata": {},
          "execution_count": 23
        }
      ]
    },
    {
      "cell_type": "code",
      "metadata": {
        "id": "Hwl0wr2Gq3KO"
      },
      "source": [
        "tokened = columns.apply(lambda row: nltk.word_tokenize(row['lowered']), axis=1)"
      ],
      "execution_count": null,
      "outputs": []
    },
    {
      "cell_type": "code",
      "metadata": {
        "id": "fhgUtlHYq7OJ"
      },
      "source": [
        "columns['tokened'] = tokened"
      ],
      "execution_count": null,
      "outputs": []
    },
    {
      "cell_type": "markdown",
      "metadata": {
        "id": "5UzhK6aIrKW_"
      },
      "source": [
        "Удалим стоп-слова или шумы. Опять же сделаем колонку с обновленными данными"
      ]
    },
    {
      "cell_type": "code",
      "metadata": {
        "colab": {
          "base_uri": "https://localhost:8080/"
        },
        "id": "EsfIeJeYrRQd",
        "outputId": "6f16d5d4-ee0d-4fd6-c823-420a456e06e9"
      },
      "source": [
        "nltk.download('stopwords')\n",
        "from nltk.corpus import stopwords\n",
        "print(stopwords.words('english'))"
      ],
      "execution_count": null,
      "outputs": [
        {
          "output_type": "stream",
          "name": "stdout",
          "text": [
            "[nltk_data] Downloading package stopwords to /root/nltk_data...\n",
            "[nltk_data]   Unzipping corpora/stopwords.zip.\n",
            "['i', 'me', 'my', 'myself', 'we', 'our', 'ours', 'ourselves', 'you', \"you're\", \"you've\", \"you'll\", \"you'd\", 'your', 'yours', 'yourself', 'yourselves', 'he', 'him', 'his', 'himself', 'she', \"she's\", 'her', 'hers', 'herself', 'it', \"it's\", 'its', 'itself', 'they', 'them', 'their', 'theirs', 'themselves', 'what', 'which', 'who', 'whom', 'this', 'that', \"that'll\", 'these', 'those', 'am', 'is', 'are', 'was', 'were', 'be', 'been', 'being', 'have', 'has', 'had', 'having', 'do', 'does', 'did', 'doing', 'a', 'an', 'the', 'and', 'but', 'if', 'or', 'because', 'as', 'until', 'while', 'of', 'at', 'by', 'for', 'with', 'about', 'against', 'between', 'into', 'through', 'during', 'before', 'after', 'above', 'below', 'to', 'from', 'up', 'down', 'in', 'out', 'on', 'off', 'over', 'under', 'again', 'further', 'then', 'once', 'here', 'there', 'when', 'where', 'why', 'how', 'all', 'any', 'both', 'each', 'few', 'more', 'most', 'other', 'some', 'such', 'no', 'nor', 'not', 'only', 'own', 'same', 'so', 'than', 'too', 'very', 's', 't', 'can', 'will', 'just', 'don', \"don't\", 'should', \"should've\", 'now', 'd', 'll', 'm', 'o', 're', 've', 'y', 'ain', 'aren', \"aren't\", 'couldn', \"couldn't\", 'didn', \"didn't\", 'doesn', \"doesn't\", 'hadn', \"hadn't\", 'hasn', \"hasn't\", 'haven', \"haven't\", 'isn', \"isn't\", 'ma', 'mightn', \"mightn't\", 'mustn', \"mustn't\", 'needn', \"needn't\", 'shan', \"shan't\", 'shouldn', \"shouldn't\", 'wasn', \"wasn't\", 'weren', \"weren't\", 'won', \"won't\", 'wouldn', \"wouldn't\"]\n"
          ]
        }
      ]
    },
    {
      "cell_type": "code",
      "metadata": {
        "id": "oJqdwecvrVdz"
      },
      "source": [
        "noise = stopwords.words('english')"
      ],
      "execution_count": null,
      "outputs": []
    },
    {
      "cell_type": "code",
      "metadata": {
        "id": "W8v6VJyJrZiR"
      },
      "source": [
        "withoutstop = columns['tokened'].apply(lambda x: [item for item in x if item not in noise])"
      ],
      "execution_count": null,
      "outputs": []
    },
    {
      "cell_type": "code",
      "metadata": {
        "id": "eWrci-oprhNh"
      },
      "source": [
        "without_stop = []\n",
        "for a in withoutstop:    \n",
        "    without_stop.append(\", \".join(a))"
      ],
      "execution_count": null,
      "outputs": []
    },
    {
      "cell_type": "code",
      "metadata": {
        "id": "_k_MMgxErjiQ"
      },
      "source": [
        "columns['without_stop'] = without_stop"
      ],
      "execution_count": null,
      "outputs": []
    },
    {
      "cell_type": "markdown",
      "metadata": {
        "id": "mxO0HXw2rujL"
      },
      "source": [
        "Проведем лемматизацию"
      ]
    },
    {
      "cell_type": "code",
      "metadata": {
        "colab": {
          "base_uri": "https://localhost:8080/"
        },
        "id": "eybVNlh8rzB-",
        "outputId": "c72cfa34-c040-4bed-f535-40325382d92c"
      },
      "source": [
        "from nltk.stem import WordNetLemmatizer \n",
        "nltk.download('wordnet')\n",
        "lemmatizer = WordNetLemmatizer()"
      ],
      "execution_count": null,
      "outputs": [
        {
          "output_type": "stream",
          "name": "stdout",
          "text": [
            "[nltk_data] Downloading package wordnet to /root/nltk_data...\n",
            "[nltk_data]   Unzipping corpora/wordnet.zip.\n"
          ]
        }
      ]
    },
    {
      "cell_type": "code",
      "metadata": {
        "id": "C9Hv04LTr1Hz"
      },
      "source": [
        "lemmatized = columns['without_stop'].apply(lambda x: [lemmatizer.lemmatize(x)])"
      ],
      "execution_count": null,
      "outputs": []
    },
    {
      "cell_type": "code",
      "metadata": {
        "id": "vKKFbgakr6m9"
      },
      "source": [
        "lemma = []\n",
        "for a in lemmatized:    \n",
        "    lemma.append(\", \".join(a))"
      ],
      "execution_count": null,
      "outputs": []
    },
    {
      "cell_type": "code",
      "metadata": {
        "id": "zytAw11or83Q"
      },
      "source": [
        "columns['lemmatized'] = lemma"
      ],
      "execution_count": null,
      "outputs": []
    },
    {
      "cell_type": "markdown",
      "metadata": {
        "id": "tVNaepSWsCBz"
      },
      "source": [
        "Разделим данные на обучающую и тестовые выборки"
      ]
    },
    {
      "cell_type": "markdown",
      "metadata": {
        "id": "slicW92xunS6"
      },
      "source": [
        "x_train - тексты, на которых мы обучаем модель. В данном случае мы используем столбец lemmatized, так как он содержит данные, прошедшие все этапы подготовки \n",
        "\n",
        "> \n",
        "\n",
        "\n",
        "\n",
        "y_train - жанры, соответствующие текстам, на которых модель обучается - столбец genre\n",
        "\n",
        "\n",
        "> \n",
        "\n",
        "\n",
        "x_test - точно такие же тексты из набора данных, на которых мы будем проверять, насколько модель научилась предсказывать жанр\n",
        "\n",
        "\n",
        "> \n",
        "\n",
        "\n",
        "\n",
        "y_test - жанры, соответствующие x_test. т.е. мы смотрим, насколько предсказания соответствуют содержимому этой переменной, чтобы оценить качество обучения"
      ]
    },
    {
      "cell_type": "code",
      "metadata": {
        "id": "hHbBUERGsQjg"
      },
      "source": [
        "from sklearn.model_selection import train_test_split \n",
        "x_train, x_test, y_train, y_test = train_test_split(columns.lemmatized, columns.genre, train_size = 0.7)"
      ],
      "execution_count": null,
      "outputs": []
    },
    {
      "cell_type": "markdown",
      "metadata": {
        "id": "Ub151ggBsvd0"
      },
      "source": [
        "Проведем векторизацию(представим текст в численном виде)"
      ]
    },
    {
      "cell_type": "code",
      "metadata": {
        "id": "fP_IYzSIs1LJ"
      },
      "source": [
        "from sklearn.feature_extraction.text import CountVectorizer"
      ],
      "execution_count": null,
      "outputs": []
    },
    {
      "cell_type": "code",
      "metadata": {
        "id": "u-lm4OfBs4de"
      },
      "source": [
        "vectorizer = CountVectorizer(ngram_range=(1, 3))\n",
        "vectorized_x_train = vectorizer.fit_transform(x_train)"
      ],
      "execution_count": null,
      "outputs": []
    },
    {
      "cell_type": "markdown",
      "metadata": {
        "id": "HJFVm0oms8Tx"
      },
      "source": [
        "Проведем классификацию, используя Наивный Байесовский Классификатор"
      ]
    },
    {
      "cell_type": "code",
      "metadata": {
        "id": "4ekSlIAJtF9V"
      },
      "source": [
        "#импортируем байесовский классификатор\n",
        "from sklearn.naive_bayes import MultinomialNB "
      ],
      "execution_count": null,
      "outputs": []
    },
    {
      "cell_type": "code",
      "metadata": {
        "colab": {
          "base_uri": "https://localhost:8080/"
        },
        "id": "ITxsKNibtIoU",
        "outputId": "ce4e3ceb-aa09-437e-c221-17f5d857a946"
      },
      "source": [
        "clf = MultinomialNB()\n",
        "clf.fit(vectorized_x_train, y_train)"
      ],
      "execution_count": null,
      "outputs": [
        {
          "output_type": "execute_result",
          "data": {
            "text/plain": [
              "MultinomialNB(alpha=1.0, class_prior=None, fit_prior=True)"
            ]
          },
          "metadata": {},
          "execution_count": 39
        }
      ]
    },
    {
      "cell_type": "code",
      "metadata": {
        "id": "zz8n-inCtMHM"
      },
      "source": [
        "# тестовую выборку просто векторизировали\n",
        "vectorized_x_test = vectorizer.transform(x_test)"
      ],
      "execution_count": null,
      "outputs": []
    },
    {
      "cell_type": "markdown",
      "metadata": {
        "id": "qL6DtQeMtQ6k"
      },
      "source": [
        "Посмотрим предсказания тестовой выборки"
      ]
    },
    {
      "cell_type": "code",
      "metadata": {
        "colab": {
          "base_uri": "https://localhost:8080/"
        },
        "id": "aFWKJduBtO3Y",
        "outputId": "93890c82-cb5b-49ff-c7b7-cef7b019740a"
      },
      "source": [
        "clf.predict(vectorized_x_test)"
      ],
      "execution_count": null,
      "outputs": [
        {
          "output_type": "execute_result",
          "data": {
            "text/plain": [
              "array(['Rock', 'Country', 'Country', 'Country', 'Rock', 'Rock', 'Rock',\n",
              "       'Rock', 'Rock', 'Rock', 'Rock', 'Country', 'Country', 'Rock',\n",
              "       'Rock', 'Country', 'Rock', 'Rock', 'Rock', 'Rock', 'Country',\n",
              "       'Country', 'Rock', 'Rock', 'Rock', 'Country', 'Country', 'Rock',\n",
              "       'Country', 'Rock', 'Country', 'Country', 'Country', 'Rock', 'Rock',\n",
              "       'Country', 'Country', 'Country', 'Rock', 'Country', 'Rock', 'Rock',\n",
              "       'Country', 'Rock', 'Rock', 'Country', 'Country', 'Rock', 'Rock',\n",
              "       'Rock', 'Country', 'Rock', 'Rock', 'Country', 'Country'],\n",
              "      dtype='<U7')"
            ]
          },
          "metadata": {},
          "execution_count": 41
        }
      ]
    },
    {
      "cell_type": "markdown",
      "metadata": {
        "id": "6Io7rjTwtV_9"
      },
      "source": [
        "Получим оценки классификации"
      ]
    },
    {
      "cell_type": "code",
      "metadata": {
        "colab": {
          "base_uri": "https://localhost:8080/"
        },
        "id": "aPiaF_pptY9V",
        "outputId": "f963d0d4-a57b-48a1-fa4b-6c451b566508"
      },
      "source": [
        "from sklearn.metrics import * \n",
        "pred = clf.predict(vectorized_x_test)\n",
        "print(classification_report(y_test, pred))"
      ],
      "execution_count": null,
      "outputs": [
        {
          "output_type": "stream",
          "name": "stdout",
          "text": [
            "              precision    recall  f1-score   support\n",
            "\n",
            "     Country       0.67      0.62      0.64        26\n",
            "        Rock       0.68      0.72      0.70        29\n",
            "\n",
            "    accuracy                           0.67        55\n",
            "   macro avg       0.67      0.67      0.67        55\n",
            "weighted avg       0.67      0.67      0.67        55\n",
            "\n"
          ]
        }
      ]
    },
    {
      "cell_type": "markdown",
      "metadata": {
        "id": "bWdnLBHf_onv"
      },
      "source": [
        "2) Найти (нагуглить) по песне каждого из жанров, которые Вам достались, после необходимой обработки их текстов определить жанр обеих песен с помощью обученной в ходе выполнения предыдущего пункта модели."
      ]
    },
    {
      "cell_type": "markdown",
      "metadata": {
        "id": "nO19492swPdy"
      },
      "source": [
        "Импортируем данные"
      ]
    },
    {
      "cell_type": "code",
      "metadata": {
        "id": "q4NGZ9qAwOn3",
        "colab": {
          "base_uri": "https://localhost:8080/",
          "height": 110
        },
        "outputId": "7efbc800-8fa5-4e4a-fe43-9333b58d1d10"
      },
      "source": [
        "data = pd.read_csv(\"TheBestDataset.csv\")\n",
        "data.head()"
      ],
      "execution_count": null,
      "outputs": [
        {
          "output_type": "execute_result",
          "data": {
            "text/html": [
              "<div>\n",
              "<style scoped>\n",
              "    .dataframe tbody tr th:only-of-type {\n",
              "        vertical-align: middle;\n",
              "    }\n",
              "\n",
              "    .dataframe tbody tr th {\n",
              "        vertical-align: top;\n",
              "    }\n",
              "\n",
              "    .dataframe thead th {\n",
              "        text-align: right;\n",
              "    }\n",
              "</style>\n",
              "<table border=\"1\" class=\"dataframe\">\n",
              "  <thead>\n",
              "    <tr style=\"text-align: right;\">\n",
              "      <th></th>\n",
              "      <th>genre</th>\n",
              "      <th>lyrics</th>\n",
              "    </tr>\n",
              "  </thead>\n",
              "  <tbody>\n",
              "    <tr>\n",
              "      <th>0</th>\n",
              "      <td>Country</td>\n",
              "      <td>I hear songs on the radio They might be fast o...</td>\n",
              "    </tr>\n",
              "    <tr>\n",
              "      <th>1</th>\n",
              "      <td>Rock</td>\n",
              "      <td>Empty spaces  what are we living for? Abandone...</td>\n",
              "    </tr>\n",
              "  </tbody>\n",
              "</table>\n",
              "</div>"
            ],
            "text/plain": [
              "     genre                                             lyrics\n",
              "0  Country  I hear songs on the radio They might be fast o...\n",
              "1     Rock  Empty spaces  what are we living for? Abandone..."
            ]
          },
          "metadata": {},
          "execution_count": 83
        }
      ]
    },
    {
      "cell_type": "code",
      "metadata": {
        "id": "gY5m1__lwnix"
      },
      "source": [
        "columns = data[['genre', 'lyrics']]\n",
        "columns = columns[(columns.genre == 'Rock') | (columns.genre == 'Country')]"
      ],
      "execution_count": null,
      "outputs": []
    },
    {
      "cell_type": "markdown",
      "metadata": {
        "id": "okzWYcxHymVq"
      },
      "source": [
        "Выполним обработку: приведем к нижнему регистру, проведем токенизацию, удалим стоп-слова, проведем лемматизацию"
      ]
    },
    {
      "cell_type": "code",
      "metadata": {
        "id": "ArnsBmfWyTi1"
      },
      "source": [
        "lowered = columns['lyrics'].str.lower()\n",
        "columns['lowered'] = lowered"
      ],
      "execution_count": null,
      "outputs": []
    },
    {
      "cell_type": "code",
      "metadata": {
        "id": "xCF-MQfsyk4i"
      },
      "source": [
        "tokened = columns.apply(lambda row: nltk.word_tokenize(row['lowered']), axis=1)\n",
        "columns['tokened'] = tokened"
      ],
      "execution_count": null,
      "outputs": []
    },
    {
      "cell_type": "code",
      "metadata": {
        "id": "K1vvlLc2ltUN"
      },
      "source": [
        "noise = stopwords.words('english')\n",
        "withoutstop = columns['tokened'].apply(lambda x: [item for item in x if item not in noise])\n",
        "without_stop = []\n",
        "for a in withoutstop:    \n",
        "    without_stop.append(\", \".join(a))\n",
        "columns['without_stop'] = without_stop"
      ],
      "execution_count": null,
      "outputs": []
    },
    {
      "cell_type": "code",
      "metadata": {
        "id": "xyACn7XcmBwI"
      },
      "source": [
        "lemmatized = columns['without_stop'].apply(lambda x: [lemmatizer.lemmatize(x)])\n",
        "lemma = []\n",
        "for a in lemmatized:    \n",
        "    lemma.append(\", \".join(a))\n",
        "columns['lemmatized'] = lemma"
      ],
      "execution_count": null,
      "outputs": []
    },
    {
      "cell_type": "markdown",
      "metadata": {
        "id": "ASyE3a77mg5B"
      },
      "source": [
        "Создадим тестовую выборку"
      ]
    },
    {
      "cell_type": "code",
      "metadata": {
        "id": "hDacHCOhnrk8"
      },
      "source": [
        "x_test = columns['lemmatized']"
      ],
      "execution_count": null,
      "outputs": []
    },
    {
      "cell_type": "markdown",
      "metadata": {
        "id": "6fszh5WuoNce"
      },
      "source": [
        "Векторизуем ее"
      ]
    },
    {
      "cell_type": "code",
      "metadata": {
        "id": "rMfPkazioPl_"
      },
      "source": [
        "vectorized_x_test = vectorizer.transform(x_test)"
      ],
      "execution_count": null,
      "outputs": []
    },
    {
      "cell_type": "markdown",
      "metadata": {
        "id": "tJWMSbE7oSNQ"
      },
      "source": [
        "И выполним предсказание жанра"
      ]
    },
    {
      "cell_type": "code",
      "metadata": {
        "colab": {
          "base_uri": "https://localhost:8080/"
        },
        "id": "OGP-QdfjmmX6",
        "outputId": "aece10cd-6253-4c52-8c16-8e95e498b38b"
      },
      "source": [
        "clf.predict(vectorized_x_test)"
      ],
      "execution_count": null,
      "outputs": [
        {
          "output_type": "execute_result",
          "data": {
            "text/plain": [
              "array(['Rock', 'Rock'], dtype='<U7')"
            ]
          },
          "metadata": {},
          "execution_count": 101
        }
      ]
    },
    {
      "cell_type": "markdown",
      "metadata": {
        "id": "XTf0xHMIoWSE"
      },
      "source": [
        "Обе песни получились жанра Rock. На то он и наивный, этот Байесовский Классификатор :) Ну или обучающая выборка была маленькая\n",
        "Получим оценки классификации, предварительно создав переменную с жанрами и векторизовав ее "
      ]
    },
    {
      "cell_type": "code",
      "metadata": {
        "id": "-ji-bx2Eo38x"
      },
      "source": [
        "y_test = columns['genre']\n",
        "vectorized_y_test = vectorizer.transform(y_test)"
      ],
      "execution_count": null,
      "outputs": []
    },
    {
      "cell_type": "code",
      "metadata": {
        "colab": {
          "base_uri": "https://localhost:8080/"
        },
        "id": "9ZZX0iwlpJRX",
        "outputId": "9510d0aa-7943-46bc-ff3f-f48a44f270c8"
      },
      "source": [
        "print(classification_report(y_test, clf.predict(vectorized_x_test)))"
      ],
      "execution_count": null,
      "outputs": [
        {
          "output_type": "stream",
          "name": "stdout",
          "text": [
            "              precision    recall  f1-score   support\n",
            "\n",
            "     Country       0.00      0.00      0.00         1\n",
            "        Rock       0.50      1.00      0.67         1\n",
            "\n",
            "    accuracy                           0.50         2\n",
            "   macro avg       0.25      0.50      0.33         2\n",
            "weighted avg       0.25      0.50      0.33         2\n",
            "\n"
          ]
        },
        {
          "output_type": "stream",
          "name": "stderr",
          "text": [
            "/usr/local/lib/python3.7/dist-packages/sklearn/metrics/_classification.py:1272: UndefinedMetricWarning: Precision and F-score are ill-defined and being set to 0.0 in labels with no predicted samples. Use `zero_division` parameter to control this behavior.\n",
            "  _warn_prf(average, modifier, msg_start, len(result))\n"
          ]
        }
      ]
    },
    {
      "cell_type": "markdown",
      "metadata": {
        "id": "WtmpuwX6AZy6"
      },
      "source": [
        "3) С помощью набора данных по ссылке аналогичным образом научить модель отличать тексты песен Дэвида Боуи от текстов песен Пола МакКартни \n",
        "https://www.kaggle.com/italomarcelo/dataset-lyrics-music-mini"
      ]
    },
    {
      "cell_type": "markdown",
      "metadata": {
        "id": "lj2FhI6kp2Ud"
      },
      "source": [
        "Импортируем датасет и посмотри, что там вообще есть"
      ]
    },
    {
      "cell_type": "code",
      "metadata": {
        "colab": {
          "base_uri": "https://localhost:8080/",
          "height": 203
        },
        "id": "OSp3jn76p5yH",
        "outputId": "c2896850-7ccf-423d-cb10-4ae3e1a957dc"
      },
      "source": [
        "data = pd.read_csv(\"dataset-lyrics-musics-mini.csv\")\n",
        "data.head()"
      ],
      "execution_count": null,
      "outputs": [
        {
          "output_type": "execute_result",
          "data": {
            "text/html": [
              "<div>\n",
              "<style scoped>\n",
              "    .dataframe tbody tr th:only-of-type {\n",
              "        vertical-align: middle;\n",
              "    }\n",
              "\n",
              "    .dataframe tbody tr th {\n",
              "        vertical-align: top;\n",
              "    }\n",
              "\n",
              "    .dataframe thead th {\n",
              "        text-align: right;\n",
              "    }\n",
              "</style>\n",
              "<table border=\"1\" class=\"dataframe\">\n",
              "  <thead>\n",
              "    <tr style=\"text-align: right;\">\n",
              "      <th></th>\n",
              "      <th>cantorId</th>\n",
              "      <th>cantorNome</th>\n",
              "      <th>musicaNome</th>\n",
              "      <th>letra</th>\n",
              "    </tr>\n",
              "  </thead>\n",
              "  <tbody>\n",
              "    <tr>\n",
              "      <th>0</th>\n",
              "      <td>0</td>\n",
              "      <td>david-bowie</td>\n",
              "      <td>Heroes</td>\n",
              "      <td>I, I will be king. And you, you will be queen....</td>\n",
              "    </tr>\n",
              "    <tr>\n",
              "      <th>1</th>\n",
              "      <td>0</td>\n",
              "      <td>david-bowie</td>\n",
              "      <td>Starman</td>\n",
              "      <td>Didn't know what time it was,. The lights were...</td>\n",
              "    </tr>\n",
              "    <tr>\n",
              "      <th>2</th>\n",
              "      <td>0</td>\n",
              "      <td>david-bowie</td>\n",
              "      <td>Space Oddity</td>\n",
              "      <td>Ground control to Major Tom. Ground control to...</td>\n",
              "    </tr>\n",
              "    <tr>\n",
              "      <th>3</th>\n",
              "      <td>0</td>\n",
              "      <td>david-bowie</td>\n",
              "      <td>Life On Mars?</td>\n",
              "      <td>It's a god-awful small affair. To the girl wit...</td>\n",
              "    </tr>\n",
              "    <tr>\n",
              "      <th>4</th>\n",
              "      <td>0</td>\n",
              "      <td>david-bowie</td>\n",
              "      <td>Modern Love</td>\n",
              "      <td>I know when to go out. And when to stay in. Ge...</td>\n",
              "    </tr>\n",
              "  </tbody>\n",
              "</table>\n",
              "</div>"
            ],
            "text/plain": [
              "   cantorId  ...                                              letra\n",
              "0         0  ...  I, I will be king. And you, you will be queen....\n",
              "1         0  ...  Didn't know what time it was,. The lights were...\n",
              "2         0  ...  Ground control to Major Tom. Ground control to...\n",
              "3         0  ...  It's a god-awful small affair. To the girl wit...\n",
              "4         0  ...  I know when to go out. And when to stay in. Ge...\n",
              "\n",
              "[5 rows x 4 columns]"
            ]
          },
          "metadata": {},
          "execution_count": 104
        }
      ]
    },
    {
      "cell_type": "markdown",
      "metadata": {
        "id": "FgIiFbRUraPM"
      },
      "source": [
        "Узнаем имена певцов в датасете"
      ]
    },
    {
      "cell_type": "code",
      "metadata": {
        "colab": {
          "base_uri": "https://localhost:8080/"
        },
        "id": "tSSRfL3IrVo2",
        "outputId": "c0e8745d-2ffe-4b5d-a180-9a94df846c39"
      },
      "source": [
        "data['cantorNome'].unique()"
      ],
      "execution_count": null,
      "outputs": [
        {
          "output_type": "execute_result",
          "data": {
            "text/plain": [
              "array(['david-bowie', 'paul-mccartney', 'laura-pausini', 'evanescence',\n",
              "       'ac-dc'], dtype=object)"
            ]
          },
          "metadata": {},
          "execution_count": 109
        }
      ]
    },
    {
      "cell_type": "markdown",
      "metadata": {
        "id": "PEq5n1jOqMTP"
      },
      "source": [
        "Создадим таблицу поменьше с нужными нам данными"
      ]
    },
    {
      "cell_type": "code",
      "metadata": {
        "id": "zJ5S4NcEqL5l"
      },
      "source": [
        "#поскольку нам нужны только имена и тексты, их и оставим\n",
        "columns = data[['cantorNome', 'letra']]\n",
        "columns = columns[(columns.cantorNome == 'david-bowie') | (columns.cantorNome == 'paul-mccartney')]"
      ],
      "execution_count": null,
      "outputs": []
    },
    {
      "cell_type": "markdown",
      "metadata": {
        "id": "8oiiZ_gBruCo"
      },
      "source": [
        "Выполним обработку текста песен: приведем к нижнему регистру, проведем токенизацию, удалим стоп-слова, проведем лемматизацию"
      ]
    },
    {
      "cell_type": "code",
      "metadata": {
        "id": "AVruHFqqrs7n"
      },
      "source": [
        "lowered = columns['letra'].str.lower()\n",
        "columns['lowered'] = lowered"
      ],
      "execution_count": null,
      "outputs": []
    },
    {
      "cell_type": "code",
      "metadata": {
        "id": "KaYaFK7JsAXa"
      },
      "source": [
        "tokened = columns.apply(lambda row: nltk.word_tokenize(row['lowered']), axis=1)\n",
        "columns['tokened'] = tokened"
      ],
      "execution_count": null,
      "outputs": []
    },
    {
      "cell_type": "code",
      "metadata": {
        "id": "5MKaFsQdsF6Y"
      },
      "source": [
        "noise = stopwords.words('english')\n",
        "withoutstop = columns['tokened'].apply(lambda x: [item for item in x if item not in noise])\n",
        "without_stop = []\n",
        "for a in withoutstop:    \n",
        "    without_stop.append(\", \".join(a))\n",
        "columns['without_stop'] = without_stop"
      ],
      "execution_count": null,
      "outputs": []
    },
    {
      "cell_type": "code",
      "metadata": {
        "id": "Uv9KbETMsHGv"
      },
      "source": [
        "lemmatized = columns['without_stop'].apply(lambda x: [lemmatizer.lemmatize(x)])\n",
        "lemma = []\n",
        "for a in lemmatized:    \n",
        "    lemma.append(\", \".join(a))\n",
        "columns['lemmatized'] = lemma"
      ],
      "execution_count": null,
      "outputs": []
    },
    {
      "cell_type": "markdown",
      "metadata": {
        "id": "YxMsEKeWsPZV"
      },
      "source": [
        "Разделим данные на обучающую и тестовые выборки, проведем их векторизацию"
      ]
    },
    {
      "cell_type": "code",
      "metadata": {
        "id": "KgM02ANasPGP"
      },
      "source": [
        "x_train, x_test, y_train, y_test = train_test_split(columns.lemmatized, columns.cantorNome, train_size = 0.7)"
      ],
      "execution_count": null,
      "outputs": []
    },
    {
      "cell_type": "code",
      "metadata": {
        "id": "iIn_9vEysjxS"
      },
      "source": [
        "vectorizer = CountVectorizer(ngram_range=(1, 3))\n",
        "vectorized_x_train = vectorizer.fit_transform(x_train)"
      ],
      "execution_count": null,
      "outputs": []
    },
    {
      "cell_type": "markdown",
      "metadata": {
        "id": "TX50jaTIst01"
      },
      "source": [
        "Проведем классификацию с Наивным Байесовским классификатором, векторизуем тестовую выборку, посмотрим предсказания на тестовой выборке и получим оценки классификаиции"
      ]
    },
    {
      "cell_type": "code",
      "metadata": {
        "colab": {
          "base_uri": "https://localhost:8080/"
        },
        "id": "5xE_a_jvstV9",
        "outputId": "9e7c3822-4506-48e4-8760-60395ea54d75"
      },
      "source": [
        "clf = MultinomialNB()\n",
        "clf.fit(vectorized_x_train, y_train)"
      ],
      "execution_count": null,
      "outputs": [
        {
          "output_type": "execute_result",
          "data": {
            "text/plain": [
              "MultinomialNB(alpha=1.0, class_prior=None, fit_prior=True)"
            ]
          },
          "metadata": {},
          "execution_count": 118
        }
      ]
    },
    {
      "cell_type": "code",
      "metadata": {
        "id": "bJyXJsKEs1uv"
      },
      "source": [
        "vectorized_x_test = vectorizer.transform(x_test)"
      ],
      "execution_count": null,
      "outputs": []
    },
    {
      "cell_type": "code",
      "metadata": {
        "colab": {
          "base_uri": "https://localhost:8080/"
        },
        "id": "vOx8wMIptRrb",
        "outputId": "48954aac-fe8a-431b-c3bb-3eab63b0626e"
      },
      "source": [
        "clf.predict(vectorized_x_test)"
      ],
      "execution_count": null,
      "outputs": [
        {
          "output_type": "execute_result",
          "data": {
            "text/plain": [
              "array(['david-bowie', 'david-bowie', 'david-bowie', 'paul-mccartney',\n",
              "       'david-bowie', 'david-bowie', 'david-bowie', 'paul-mccartney',\n",
              "       'paul-mccartney', 'paul-mccartney', 'david-bowie', 'david-bowie',\n",
              "       'david-bowie', 'david-bowie', 'david-bowie', 'david-bowie',\n",
              "       'paul-mccartney', 'david-bowie', 'david-bowie', 'david-bowie',\n",
              "       'david-bowie', 'paul-mccartney', 'paul-mccartney',\n",
              "       'paul-mccartney', 'david-bowie', 'david-bowie', 'paul-mccartney',\n",
              "       'paul-mccartney', 'paul-mccartney', 'david-bowie',\n",
              "       'paul-mccartney', 'paul-mccartney', 'paul-mccartney',\n",
              "       'paul-mccartney', 'david-bowie', 'david-bowie', 'david-bowie',\n",
              "       'paul-mccartney', 'david-bowie', 'paul-mccartney', 'david-bowie',\n",
              "       'david-bowie', 'david-bowie', 'paul-mccartney', 'paul-mccartney',\n",
              "       'david-bowie', 'paul-mccartney', 'david-bowie', 'paul-mccartney',\n",
              "       'david-bowie', 'david-bowie', 'david-bowie', 'david-bowie',\n",
              "       'paul-mccartney', 'david-bowie', 'paul-mccartney', 'david-bowie',\n",
              "       'david-bowie', 'paul-mccartney', 'paul-mccartney',\n",
              "       'paul-mccartney', 'paul-mccartney', 'paul-mccartney',\n",
              "       'paul-mccartney', 'paul-mccartney', 'paul-mccartney',\n",
              "       'david-bowie', 'paul-mccartney', 'david-bowie', 'david-bowie',\n",
              "       'paul-mccartney', 'david-bowie', 'david-bowie', 'david-bowie',\n",
              "       'paul-mccartney', 'paul-mccartney', 'paul-mccartney',\n",
              "       'paul-mccartney', 'david-bowie', 'paul-mccartney', 'david-bowie',\n",
              "       'david-bowie', 'david-bowie', 'paul-mccartney', 'david-bowie',\n",
              "       'paul-mccartney', 'paul-mccartney', 'paul-mccartney',\n",
              "       'paul-mccartney', 'david-bowie', 'david-bowie', 'paul-mccartney',\n",
              "       'paul-mccartney', 'paul-mccartney', 'paul-mccartney',\n",
              "       'paul-mccartney', 'david-bowie', 'david-bowie', 'paul-mccartney',\n",
              "       'david-bowie', 'david-bowie', 'david-bowie', 'paul-mccartney',\n",
              "       'david-bowie', 'david-bowie', 'david-bowie', 'david-bowie',\n",
              "       'paul-mccartney', 'david-bowie', 'david-bowie', 'david-bowie',\n",
              "       'david-bowie', 'david-bowie', 'paul-mccartney', 'paul-mccartney',\n",
              "       'david-bowie', 'paul-mccartney', 'paul-mccartney', 'david-bowie',\n",
              "       'david-bowie', 'david-bowie', 'paul-mccartney', 'david-bowie',\n",
              "       'paul-mccartney', 'paul-mccartney', 'david-bowie',\n",
              "       'paul-mccartney', 'david-bowie', 'paul-mccartney',\n",
              "       'paul-mccartney', 'david-bowie', 'paul-mccartney', 'david-bowie',\n",
              "       'david-bowie', 'paul-mccartney', 'paul-mccartney',\n",
              "       'paul-mccartney', 'david-bowie', 'paul-mccartney', 'david-bowie',\n",
              "       'david-bowie', 'david-bowie', 'david-bowie', 'david-bowie',\n",
              "       'paul-mccartney', 'david-bowie', 'paul-mccartney',\n",
              "       'paul-mccartney', 'david-bowie', 'paul-mccartney', 'david-bowie',\n",
              "       'paul-mccartney', 'paul-mccartney', 'paul-mccartney',\n",
              "       'david-bowie', 'paul-mccartney', 'paul-mccartney', 'david-bowie',\n",
              "       'david-bowie', 'paul-mccartney', 'david-bowie', 'paul-mccartney',\n",
              "       'david-bowie', 'paul-mccartney', 'paul-mccartney', 'david-bowie',\n",
              "       'david-bowie', 'david-bowie', 'paul-mccartney', 'david-bowie',\n",
              "       'paul-mccartney', 'paul-mccartney', 'david-bowie',\n",
              "       'paul-mccartney', 'david-bowie', 'paul-mccartney', 'david-bowie',\n",
              "       'paul-mccartney', 'david-bowie', 'paul-mccartney', 'david-bowie',\n",
              "       'paul-mccartney', 'paul-mccartney', 'paul-mccartney',\n",
              "       'david-bowie', 'paul-mccartney', 'david-bowie', 'david-bowie',\n",
              "       'david-bowie', 'paul-mccartney', 'paul-mccartney', 'david-bowie',\n",
              "       'paul-mccartney', 'paul-mccartney', 'paul-mccartney',\n",
              "       'david-bowie', 'david-bowie', 'paul-mccartney', 'david-bowie',\n",
              "       'paul-mccartney', 'david-bowie', 'paul-mccartney', 'david-bowie',\n",
              "       'paul-mccartney', 'paul-mccartney', 'paul-mccartney',\n",
              "       'paul-mccartney', 'paul-mccartney', 'paul-mccartney',\n",
              "       'paul-mccartney', 'paul-mccartney', 'paul-mccartney',\n",
              "       'david-bowie', 'paul-mccartney', 'paul-mccartney', 'david-bowie',\n",
              "       'paul-mccartney', 'david-bowie', 'paul-mccartney',\n",
              "       'paul-mccartney', 'paul-mccartney', 'paul-mccartney',\n",
              "       'paul-mccartney', 'david-bowie', 'paul-mccartney',\n",
              "       'paul-mccartney', 'david-bowie', 'paul-mccartney', 'david-bowie',\n",
              "       'david-bowie', 'david-bowie', 'paul-mccartney', 'paul-mccartney',\n",
              "       'david-bowie', 'david-bowie', 'paul-mccartney', 'david-bowie',\n",
              "       'paul-mccartney', 'paul-mccartney', 'david-bowie', 'david-bowie',\n",
              "       'david-bowie', 'paul-mccartney', 'paul-mccartney', 'david-bowie',\n",
              "       'david-bowie', 'paul-mccartney', 'paul-mccartney',\n",
              "       'paul-mccartney', 'paul-mccartney', 'david-bowie',\n",
              "       'paul-mccartney', 'david-bowie', 'david-bowie', 'david-bowie',\n",
              "       'david-bowie', 'david-bowie', 'paul-mccartney', 'david-bowie',\n",
              "       'paul-mccartney', 'david-bowie', 'david-bowie', 'paul-mccartney',\n",
              "       'david-bowie', 'david-bowie', 'david-bowie', 'david-bowie',\n",
              "       'david-bowie', 'david-bowie', 'paul-mccartney', 'david-bowie',\n",
              "       'david-bowie', 'david-bowie', 'paul-mccartney', 'paul-mccartney',\n",
              "       'paul-mccartney', 'paul-mccartney', 'david-bowie', 'david-bowie',\n",
              "       'paul-mccartney', 'paul-mccartney', 'paul-mccartney',\n",
              "       'david-bowie', 'paul-mccartney', 'paul-mccartney'], dtype='<U14')"
            ]
          },
          "metadata": {},
          "execution_count": 120
        }
      ]
    },
    {
      "cell_type": "code",
      "metadata": {
        "colab": {
          "base_uri": "https://localhost:8080/"
        },
        "id": "Y_MXEcy2tb5j",
        "outputId": "c5f208d8-0015-4111-af3e-35858d8c6c4c"
      },
      "source": [
        "print(classification_report(y_test, clf.predict(vectorized_x_test)))"
      ],
      "execution_count": null,
      "outputs": [
        {
          "output_type": "stream",
          "name": "stdout",
          "text": [
            "                precision    recall  f1-score   support\n",
            "\n",
            "   david-bowie       0.75      0.73      0.74       146\n",
            "paul-mccartney       0.73      0.75      0.74       139\n",
            "\n",
            "      accuracy                           0.74       285\n",
            "     macro avg       0.74      0.74      0.74       285\n",
            "  weighted avg       0.74      0.74      0.74       285\n",
            "\n"
          ]
        }
      ]
    }
  ]
}